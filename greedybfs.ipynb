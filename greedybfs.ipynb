{
 "cells": [
  {
   "cell_type": "code",
   "execution_count": 31,
   "id": "6bad6a67",
   "metadata": {},
   "outputs": [],
   "source": [
    "maze5 = [\n",
    "    ['A', 0,  1,  0,  0,  0, 1, 0, 0, 1, 0, 0],\n",
    "    [0,   0,  1,  0,  1,  0, 1, 0, 1, 0, 0, 0],\n",
    "    [1,   0,  0,  0,  1,  0, 0, 0, 1, 1, 1, 0],\n",
    "    [0,   1,  1,  0,  0,  1, 1, 0, 0, 0, 1, 0],\n",
    "    [0,   0,  0,  0,  1,  0, 1, 1, 1, 0, 0, 0],\n",
    "    [1,   1,  1,  0,  1,  0, 0, 0, 1, 1, 1, 0],\n",
    "    [0,   0,  1,  0,  0,  0, 1, 0, 0, 0, 1, 0],\n",
    "    [0,   1,  0,  1,  1,  0, 1, 1, 1, 0, 1, 0],\n",
    "    [0,   0,  0,  0,  0,  0, 0, 0, 1, 0, 0, 0],\n",
    "    [1,   1,  1,  1,  1,  1, 0, 1, 0, 1, 1, 0],\n",
    "    [0,   0,  0,  0,  0,  0, 0, 1, 0, 0, 0, 0],\n",
    "    [0,   1,  1,  1,  1,  1, 1, 1, 1, 1, 1,'B'],\n",
    "]"
   ]
  },
  {
   "cell_type": "code",
   "execution_count": 32,
   "id": "f832bf15",
   "metadata": {},
   "outputs": [],
   "source": [
    "import heapq\n",
    "\n",
    "# Define Manhattan distance heuristic\n",
    "def manhattan(a, b):\n",
    "    return abs(a[0] - b[0]) + abs(a[1] - b[1])\n"
   ]
  },
  {
   "cell_type": "code",
   "execution_count": 33,
   "id": "4d292304",
   "metadata": {},
   "outputs": [],
   "source": [
    "# Get neighbors in 4 directions\n",
    "def get_neighbors(pos, maze):\n",
    "    neighbors = []\n",
    "    directions = [(-1,0), (1,0), (0,-1), (0,1)]  # up, down, left, right\n",
    "    rows, cols = len(maze), len(maze[0])\n",
    "    for dx, dy in directions:\n",
    "        nx, ny = pos[0] + dx, pos[1] + dy\n",
    "        if 0 <= nx < rows and 0 <= ny < cols and maze[nx][ny] != 1:\n",
    "            neighbors.append((nx, ny))\n",
    "    return neighbors"
   ]
  },
  {
   "cell_type": "code",
   "execution_count": 34,
   "id": "c356dba8",
   "metadata": {},
   "outputs": [],
   "source": [
    "def processed_maze(maze):\n",
    "\n",
    "    # Convert maze to numeric values for processing\n",
    "    processed_maze = []\n",
    "    for row in maze:\n",
    "        new_row = []\n",
    "        for cell in row:\n",
    "            if cell == 'A':\n",
    "                start = (maze.index(row), row.index(cell))\n",
    "                new_row.append(0)\n",
    "            elif cell == 'B':\n",
    "                goal = (maze.index(row), row.index(cell))\n",
    "                new_row.append(0)\n",
    "            else:\n",
    "                new_row.append(cell)\n",
    "        processed_maze.append(new_row)\n",
    "    return processed_maze, start, goal"
   ]
  },
  {
   "cell_type": "code",
   "execution_count": 35,
   "id": "0ed49276",
   "metadata": {},
   "outputs": [],
   "source": [
    "# Greedy Best-First Search\n",
    "\n",
    "def greedy_bfs(maze):\n",
    "\n",
    "    proc_maze, start, goal = processed_maze(maze)\n",
    "\n",
    "    visited = set()\n",
    "    came_from = {}\n",
    "\n",
    "    heap = []\n",
    "    heapq.heappush(heap, (manhattan(start, goal), start))\n",
    "\n",
    "    while heap:\n",
    "        _, current = heapq.heappop(heap)\n",
    "\n",
    "        if current == goal:\n",
    "            break\n",
    "\n",
    "        if current in visited:\n",
    "            continue\n",
    "        visited.add(current)\n",
    "\n",
    "        for neighbor in get_neighbors(current, maze):\n",
    "            if neighbor not in visited:\n",
    "                heapq.heappush(heap, (manhattan(neighbor, goal), neighbor))\n",
    "                if neighbor not in came_from:\n",
    "                    came_from[neighbor] = current\n",
    "\n",
    "    # Reconstruct path\n",
    "    path = []\n",
    "    curr = goal\n",
    "    while curr != start:\n",
    "        path.append(curr)\n",
    "        curr = came_from.get(curr)\n",
    "        if curr is None:\n",
    "            print(\"No path found.\")\n",
    "            return []\n",
    "    path.append(start)\n",
    "    path.reverse()\n",
    "    return path"
   ]
  },
  {
   "cell_type": "code",
   "execution_count": 36,
   "id": "dfba4847",
   "metadata": {},
   "outputs": [
    {
     "name": "stdout",
     "output_type": "stream",
     "text": [
      "Path from A to B:\n",
      "[(0, 0), (0, 1), (1, 1), (2, 1), (2, 2), (2, 3), (3, 3), (4, 3), (5, 3), (6, 3), (6, 4), (6, 5), (5, 5), (5, 6), (5, 7), (6, 7), (6, 8), (6, 9), (7, 9), (8, 9), (8, 10), (8, 11), (9, 11), (10, 11), (11, 11)]\n"
     ]
    }
   ],
   "source": [
    "path = greedy_bfs(maze5)\n",
    "\n",
    "# Print path\n",
    "print(\"Path from A to B:\")\n",
    "print(path)\n"
   ]
  },
  {
   "cell_type": "code",
   "execution_count": 37,
   "id": "0a6d47a4",
   "metadata": {},
   "outputs": [
    {
     "name": "stdout",
     "output_type": "stream",
     "text": [
      "A * 1 0 0 0 1 0 0 1 0 0\n",
      "0 * 1 0 1 0 1 0 1 0 0 0\n",
      "1 * * * 1 0 0 0 1 1 1 0\n",
      "0 1 1 * 0 1 1 0 0 0 1 0\n",
      "0 0 0 * 1 0 1 1 1 0 0 0\n",
      "1 1 1 * 1 * * * 1 1 1 0\n",
      "0 0 1 * * * 1 * * * 1 0\n",
      "0 1 0 1 1 0 1 1 1 * 1 0\n",
      "0 0 0 0 0 0 0 0 1 * * *\n",
      "1 1 1 1 1 1 0 1 0 1 1 *\n",
      "0 0 0 0 0 0 0 1 0 0 0 *\n",
      "0 1 1 1 1 1 1 1 1 1 1 B\n"
     ]
    }
   ],
   "source": [
    "def visualize_path(path, maze):\n",
    "    for r, c in path:\n",
    "        if maze[r][c] not in ('A', 'B'):\n",
    "            maze[r][c] = '*'\n",
    "\n",
    "    for row in maze:\n",
    "        print(' '.join(str(cell) for cell in row))\n",
    "\n",
    "visualize_path(path, maze5)\n"
   ]
  },
  {
   "cell_type": "code",
   "execution_count": 38,
   "id": "de684cdf",
   "metadata": {},
   "outputs": [],
   "source": [
    "def manhattan(p1, p2):\n",
    "    return abs(p1[0] - p2[0]) + abs(p1[1] - p2[1])\n",
    "\n",
    "# Find start (A) and goal (B)\n",
    "def find_positions(maze):\n",
    "    start = goal = None\n",
    "    for i in range(len(maze)):\n",
    "        for j in range(len(maze[0])):\n",
    "            if maze[i][j] == 'A':\n",
    "                start = (i, j)\n",
    "            elif maze[i][j] == 'B':\n",
    "                goal = (i, j)\n",
    "    return start, goal\n",
    "\n",
    "def visualize_manhattan(maze):\n",
    "    start, goal = find_positions(maze)\n",
    "    rows, cols = len(maze), len(maze[0])\n",
    "\n",
    "    dist_matrix = []\n",
    "    for i in range(rows):\n",
    "        row = []\n",
    "        for j in range(cols):\n",
    "            if maze[i][j] == 1:   # Wall\n",
    "                row.append(\"█\")\n",
    "            elif maze[i][j] == 'A':\n",
    "                row.append('A')\n",
    "            elif maze[i][j] == 'B':\n",
    "                row.append('B')\n",
    "            else:\n",
    "                row.append(manhattan((i, j), goal))\n",
    "        dist_matrix.append(row)\n",
    "\n",
    "    return dist_matrix"
   ]
  },
  {
   "cell_type": "code",
   "execution_count": 39,
   "id": "6c98be00",
   "metadata": {},
   "outputs": [
    {
     "data": {
      "text/plain": [
       "[['A', 21, '█', 19, 18, 17, '█', 15, 14, '█', 12, 11],\n",
       " [21, 20, '█', 18, '█', 16, '█', 14, '█', 12, 11, 10],\n",
       " ['█', 19, 18, 17, '█', 15, 14, 13, '█', '█', '█', 9],\n",
       " [19, '█', '█', 16, 15, '█', '█', 12, 11, 10, '█', 8],\n",
       " [18, 17, 16, 15, '█', 13, '█', '█', '█', 9, 8, 7],\n",
       " ['█', '█', '█', 14, '█', 12, 11, 10, '█', '█', '█', 6],\n",
       " [16, 15, '█', 13, 12, 11, '█', 9, 8, 7, '█', 5],\n",
       " [15, '█', 13, '█', '█', 10, '█', '█', '█', 6, '█', 4],\n",
       " [14, 13, 12, 11, 10, 9, 8, 7, '█', 5, 4, 3],\n",
       " ['█', '█', '█', '█', '█', '█', 7, '█', 5, '█', '█', 2],\n",
       " [12, 11, 10, 9, 8, 7, 6, '█', 4, 3, 2, 1],\n",
       " [11, '█', '█', '█', '█', '█', '█', '█', '█', '█', '█', 'B']]"
      ]
     },
     "execution_count": 39,
     "metadata": {},
     "output_type": "execute_result"
    }
   ],
   "source": [
    "visualize_manhattan(maze5)"
   ]
  },
  {
   "cell_type": "code",
   "execution_count": 40,
   "id": "3547e610",
   "metadata": {},
   "outputs": [],
   "source": [
    "# Pretty print function\n",
    "def print_matrix(matrix):\n",
    "    for row in matrix:\n",
    "        row_str = \"\"\n",
    "        for val in row:\n",
    "            if val == \"█\":\n",
    "                row_str += \" █ \"   # Wall\n",
    "            elif val == 'A' or val == 'B':\n",
    "                row_str += f\" {val} \"\n",
    "            else:\n",
    "                row_str += f\"{val:2d} \"  # Align numbers\n",
    "        print(row_str)\n",
    "    print()  # Extra space after the grid"
   ]
  },
  {
   "cell_type": "code",
   "execution_count": 41,
   "id": "b92f94ee",
   "metadata": {},
   "outputs": [
    {
     "name": "stdout",
     "output_type": "stream",
     "text": [
      " A 21  █ 19 18 17  █ 15 14  █ 12 11 \n",
      "21 20  █ 18  █ 16  █ 14  █ 12 11 10 \n",
      " █ 19 18 17  █ 15 14 13  █  █  █  9 \n",
      "19  █  █ 16 15  █  █ 12 11 10  █  8 \n",
      "18 17 16 15  █ 13  █  █  █  9  8  7 \n",
      " █  █  █ 14  █ 12 11 10  █  █  █  6 \n",
      "16 15  █ 13 12 11  █  9  8  7  █  5 \n",
      "15  █ 13  █  █ 10  █  █  █  6  █  4 \n",
      "14 13 12 11 10  9  8  7  █  5  4  3 \n",
      " █  █  █  █  █  █  7  █  5  █  █  2 \n",
      "12 11 10  9  8  7  6  █  4  3  2  1 \n",
      "11  █  █  █  █  █  █  █  █  █  █  B \n",
      "\n"
     ]
    }
   ],
   "source": [
    "print_matrix(visualize_manhattan(maze5))"
   ]
  },
  {
   "cell_type": "markdown",
   "id": "47fdbc7e",
   "metadata": {},
   "source": [
    "# Examples of different mazes"
   ]
  },
  {
   "cell_type": "code",
   "execution_count": 42,
   "id": "47075d22",
   "metadata": {},
   "outputs": [],
   "source": [
    "maze1 = [\n",
    "    ['A', 0, 0, 0, 'B'],\n",
    "    [1,   1, 1, 1,  0],\n",
    "    [0,   0, 0, 0,  0],\n",
    "    [0,   1, 1, 1,  0],\n",
    "    [0,   0, 0, 0,  0],\n",
    "]"
   ]
  },
  {
   "cell_type": "code",
   "execution_count": 43,
   "id": "407abd7f",
   "metadata": {},
   "outputs": [],
   "source": [
    "maze2 = [\n",
    "    ['A', 0,   1,  0, 0, 0],\n",
    "    [1,   0,   1,  0, 1, 0],\n",
    "    [0,   0,   0,  0, 1, 0],\n",
    "    [0,   1,   1,  1, 1, 0],\n",
    "    [0,   0,   0,  0, 0, 0],\n",
    "    [0,   1,   1,  1, 1,'B'],\n",
    "]"
   ]
  },
  {
   "cell_type": "code",
   "execution_count": 44,
   "id": "f0bef5dc",
   "metadata": {},
   "outputs": [],
   "source": [
    "maze3 = [\n",
    "    ['A', 0,  1,  0, 0, 0, 0, 0],\n",
    "    [0,   0,  1,  0, 1, 1, 1, 0],\n",
    "    [0,   1,  1,  0, 0, 0, 1, 0],\n",
    "    [0,   0,  0,  0, 1, 0, 1, 0],\n",
    "    [1,   1,  1,  0, 1, 0, 0, 0],\n",
    "    [0,   0,  0,  0, 0, 1, 1, 0],\n",
    "    [0,   1,  1,  1, 0, 0, 0, 0],\n",
    "    [0,   0,  0,  0, 0, 1, 1,'B'],\n",
    "]"
   ]
  },
  {
   "cell_type": "code",
   "execution_count": 45,
   "id": "67e26c64",
   "metadata": {},
   "outputs": [],
   "source": [
    "maze4 = [\n",
    "    ['A', 0,  1,  0,  0,  0, 1, 0, 0, 0],\n",
    "    [0,   0,  1,  0,  1,  0, 1, 0, 1, 0],\n",
    "    [1,   0,  0,  0,  1,  0, 0, 0, 1, 0],\n",
    "    [0,   1,  1,  0,  0,  1, 1, 0, 0, 0],\n",
    "    [0,   0,  0,  0,  1,  0, 1, 1, 1, 0],\n",
    "    [1,   1,  1,  0,  1,  0, 0, 0, 1, 0],\n",
    "    [0,   0,  1,  0,  0,  0, 1, 0, 0, 0],\n",
    "    [0,   1,  0,  1,  1,  0, 1, 1, 1, 0],\n",
    "    [0,   0,  0,  0,  0,  0, 0, 0, 1, 0],\n",
    "    [1,   1,  1,  1,  1,  1, 0, 1, 0,'B'],\n",
    "]"
   ]
  },
  {
   "cell_type": "code",
   "execution_count": 46,
   "id": "9d140dbe",
   "metadata": {},
   "outputs": [],
   "source": [
    "maze5 = [\n",
    "    ['A', 0,  1,  0,  0,  0, 1, 0, 0, 1, 0, 0],\n",
    "    [0,   0,  1,  0,  1,  0, 1, 0, 1, 0, 0, 0],\n",
    "    [1,   0,  0,  0,  1,  0, 0, 0, 1, 1, 1, 0],\n",
    "    [0,   1,  1,  0,  0,  1, 1, 0, 0, 0, 1, 0],\n",
    "    [0,   0,  0,  0,  1,  0, 1, 1, 1, 0, 0, 0],\n",
    "    [1,   1,  1,  0,  1,  0, 0, 0, 1, 1, 1, 0],\n",
    "    [0,   0,  1,  0,  0,  0, 1, 0, 0, 0, 1, 0],\n",
    "    [0,   1,  0,  1,  1,  0, 1, 1, 1, 0, 1, 0],\n",
    "    [0,   0,  0,  0,  0,  0, 0, 0, 1, 0, 0, 0],\n",
    "    [1,   1,  1,  1,  1,  1, 0, 1, 0, 1, 1, 0],\n",
    "    [0,   0,  0,  0,  0,  0, 0, 1, 0, 0, 0, 0],\n",
    "    [0,   1,  1,  1,  1,  1, 1, 1, 1, 1, 1,'B'],\n",
    "]"
   ]
  },
  {
   "cell_type": "code",
   "execution_count": 47,
   "id": "b04c759c",
   "metadata": {},
   "outputs": [],
   "source": [
    "# Using OOPS"
   ]
  },
  {
   "cell_type": "code",
   "execution_count": 48,
   "id": "64ed2beb",
   "metadata": {},
   "outputs": [
    {
     "name": "stdout",
     "output_type": "stream",
     "text": [
      "A * 1 0 0 0 1 0 0 1 0 0\n",
      "0 * 1 0 1 0 1 0 1 0 0 0\n",
      "1 * * * 1 0 0 0 1 1 1 0\n",
      "0 1 1 * 0 1 1 0 0 0 1 0\n",
      "0 0 0 * 1 0 1 1 1 0 0 0\n",
      "1 1 1 * 1 * * * 1 1 1 0\n",
      "0 0 1 * * * 1 * * * 1 0\n",
      "0 1 0 1 1 0 1 1 1 * 1 0\n",
      "0 0 0 0 0 0 0 0 1 * * *\n",
      "1 1 1 1 1 1 0 1 0 1 1 *\n",
      "0 0 0 0 0 0 0 1 0 0 0 *\n",
      "0 1 1 1 1 1 1 1 1 1 1 B\n",
      "\n",
      "Manhattan Distance Grid:\n",
      "A 21 █ 19 18 17 █ 15 14 █ 12 11\n",
      "21 20 █ 18 █ 16 █ 14 █ 12 11 10\n",
      "█ 19 18 17 █ 15 14 13 █ █ █ 9\n",
      "19 █ █ 16 15 █ █ 12 11 10 █ 8\n",
      "18 17 16 15 █ 13 █ █ █ 9 8 7\n",
      "█ █ █ 14 █ 12 11 10 █ █ █ 6\n",
      "16 15 █ 13 12 11 █ 9 8 7 █ 5\n",
      "15 █ 13 █ █ 10 █ █ █ 6 █ 4\n",
      "14 13 12 11 10 9 8 7 █ 5 4 3\n",
      "█ █ █ █ █ █ 7 █ 5 █ █ 2\n",
      "12 11 10 9 8 7 6 █ 4 3 2 1\n",
      "11 █ █ █ █ █ █ █ █ █ █ B\n"
     ]
    }
   ],
   "source": [
    "import heapq\n",
    "\n",
    "class Maze:\n",
    "    def __init__(self, grid):\n",
    "        self.grid = grid\n",
    "        self.start, self.goal = self.find_positions()\n",
    "\n",
    "    def find_positions(self):\n",
    "        start = goal = None\n",
    "        for row in range(len(self.grid)):\n",
    "            for col in range(len(self.grid[0])):\n",
    "                if self.grid[row][col] == 'A':\n",
    "                    start = (row, col)\n",
    "                elif self.grid[row][col] == 'B':\n",
    "                    goal = (row, col)\n",
    "        return start, goal\n",
    "\n",
    "    def manhattan(self, point1, point2):\n",
    "        return abs(point1[0] - point2[0]) + abs(point1[1] - point2[1])\n",
    "\n",
    "    def get_neighbors(self, position):\n",
    "        neighbors = []\n",
    "        directions = [(-1,0), (1,0), (0,-1), (0,1)]  # Up, Down, Left, Right\n",
    "        rows, cols = len(self.grid), len(self.grid[0])\n",
    "\n",
    "        for dx, dy in directions:\n",
    "            new_x, new_y = position[0] + dx, position[1] + dy\n",
    "            if 0 <= new_x < rows and 0 <= new_y < cols and self.grid[new_x][new_y] != 1:\n",
    "                neighbors.append((new_x, new_y))\n",
    "        return neighbors\n",
    "\n",
    "    def greedy_bfs(self):\n",
    "        visited = set()\n",
    "        came_from = {}\n",
    "\n",
    "        priority_queue = []\n",
    "        heapq.heappush(priority_queue, (self.manhattan(self.start, self.goal), self.start))\n",
    "\n",
    "        while priority_queue:\n",
    "            _, current = heapq.heappop(priority_queue)\n",
    "\n",
    "            if current == self.goal:\n",
    "                break\n",
    "\n",
    "            if current in visited:\n",
    "                continue\n",
    "            visited.add(current)\n",
    "\n",
    "            for neighbor in self.get_neighbors(current):\n",
    "                if neighbor not in visited:\n",
    "                    heapq.heappush(priority_queue, (self.manhattan(neighbor, self.goal), neighbor))\n",
    "                    if neighbor not in came_from:\n",
    "                        came_from[neighbor] = current\n",
    "\n",
    "        # Reconstruct path\n",
    "        path = []\n",
    "        current = self.goal\n",
    "        while current != self.start:\n",
    "            path.append(current)\n",
    "            current = came_from.get(current)\n",
    "            if current is None:\n",
    "                print(\"No path found.\")\n",
    "                return []\n",
    "        path.append(self.start)\n",
    "        path.reverse()\n",
    "        return path\n",
    "\n",
    "    def visualize_path(self, path):\n",
    "        for row, col in path:\n",
    "            if self.grid[row][col] not in ('A', 'B'):\n",
    "                self.grid[row][col] = '*'\n",
    "\n",
    "        for row in self.grid:\n",
    "            print(' '.join(str(cell) for cell in row))\n",
    "\n",
    "    def visualize_manhattan(self):\n",
    "        rows, cols = len(self.grid), len(self.grid[0])\n",
    "        distance_grid = []\n",
    "\n",
    "        for i in range(rows):\n",
    "            row = []\n",
    "            for j in range(cols):\n",
    "                if self.grid[i][j] == 1:\n",
    "                    row.append('█')\n",
    "                elif self.grid[i][j] == 'A':\n",
    "                    row.append('A')\n",
    "                elif self.grid[i][j] == 'B':\n",
    "                    row.append('B')\n",
    "                else:\n",
    "                    row.append(self.manhattan((i, j), self.goal))\n",
    "            distance_grid.append(row)\n",
    "\n",
    "        return distance_grid\n",
    "\n",
    "\n",
    "# Example Usage:\n",
    "maze_instance = Maze(maze5)\n",
    "path = maze_instance.greedy_bfs()\n",
    "maze_instance.visualize_path(path)\n",
    "print(\"\\nManhattan Distance Grid:\")\n",
    "manhattan_grid = maze_instance.visualize_manhattan()\n",
    "for row in manhattan_grid:\n",
    "    print(' '.join(str(cell) for cell in row))\n"
   ]
  }
 ],
 "metadata": {
  "kernelspec": {
   "display_name": "Python 3",
   "language": "python",
   "name": "python3"
  },
  "language_info": {
   "codemirror_mode": {
    "name": "ipython",
    "version": 3
   },
   "file_extension": ".py",
   "mimetype": "text/x-python",
   "name": "python",
   "nbconvert_exporter": "python",
   "pygments_lexer": "ipython3",
   "version": "3.13.1"
  }
 },
 "nbformat": 4,
 "nbformat_minor": 5
}
