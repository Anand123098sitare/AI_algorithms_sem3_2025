{
 "cells": [
  {
   "cell_type": "markdown",
   "metadata": {},
   "source": [
    "# Part C – Programming Task\n",
    "\n",
    "## 1. Implement A* search on a maze\n",
    "We represent the maze as a 2D matrix:\n",
    "- `1 = wall`\n",
    "- `0 = free path`\n",
    "- `A = start`, `B = goal`\n",
    "\n",
    "We will use Manhattan distance as the heuristic function."
   ]
  },
  {
   "cell_type": "code",
   "execution_count": 5,
   "metadata": {},
   "outputs": [],
   "source": [
    "import heapq\n",
    "import matplotlib.pyplot as plt\n",
    "import numpy as np\n",
    "\n",
    "# ---------- Utility Functions ----------\n",
    "def manhattan(a, b):\n",
    "    return abs(a[0] - b[0]) + abs(a[1] - b[1])\n",
    "\n",
    "def reconstruct_path(came_from, current):\n",
    "    path = []\n",
    "    while current in came_from:\n",
    "        path.append(current)\n",
    "        current = came_from[current]\n",
    "    path.append(current)\n",
    "    return path[::-1]\n",
    "\n",
    "# ---------- A* Search Implementation ----------\n",
    "def astar_search(grid, start, goal, heuristic_func):\n",
    "    rows, cols = len(grid), len(grid[0])\n",
    "    open_set = []\n",
    "    heapq.heappush(open_set, (0, start))\n",
    "\n",
    "    came_from = {}\n",
    "    g_score = {start: 0}\n",
    "    f_score = {start: heuristic_func(start, goal)}\n",
    "\n",
    "    while open_set:\n",
    "        _, current = heapq.heappop(open_set)\n",
    "\n",
    "        if current == goal:\n",
    "            return reconstruct_path(came_from, current)\n",
    "\n",
    "        for dx, dy in [(0,1),(0,-1),(1,0),(-1,0)]:\n",
    "            neighbor = (current[0]+dx, current[1]+dy)\n",
    "            if 0 <= neighbor[0] < rows and 0 <= neighbor[1] < cols and grid[neighbor[0]][neighbor[1]] != 1:\n",
    "                tentative_g = g_score[current] + 1\n",
    "                if neighbor not in g_score or tentative_g < g_score[neighbor]:\n",
    "                    came_from[neighbor] = current\n",
    "                    g_score[neighbor] = tentative_g\n",
    "                    f_score[neighbor] = tentative_g + heuristic_func(neighbor, goal)\n",
    "                    heapq.heappush(open_set, (f_score[neighbor], neighbor))\n",
    "    return None\n",
    "\n",
    "# ---------- Visualization ----------\n",
    "def visualize(grid, path):\n",
    "    grid_copy = np.array(grid, dtype=float)\n",
    "    for (x,y) in path:\n",
    "        if grid_copy[x,y] == 0:  # mark path\n",
    "            grid_copy[x,y] = 0.5\n",
    "    plt.imshow(grid_copy, cmap=\"gray\")\n",
    "    plt.title(\"Maze with A* Path\")\n",
    "    plt.show()"
   ]
  },
  {
   "cell_type": "markdown",
   "metadata": {},
   "source": [
    "## 2. Example Maze\n",
    "\n",
    "We create a small 5x5 maze with Start at top-left `(0,0)` and Goal at bottom-right `(4,4)`."
   ]
  },
  {
   "cell_type": "code",
   "execution_count": 6,
   "metadata": {},
   "outputs": [
    {
     "name": "stdout",
     "output_type": "stream",
     "text": [
      "Path found: [(0, 0), (0, 1), (0, 2), (1, 2), (2, 2), (2, 3), (2, 4), (3, 4), (4, 4)]\n"
     ]
    },
    {
     "data": {
      "image/png": "[encoded data removed]",
      "text/plain": [
       "<Figure size 640x480 with 1 Axes>"
      ]
     },
     "metadata": {},
     "output_type": "display_data"
    }
   ],
   "source": [
    "maze = [\n",
    "    [0,0,0,1,0],\n",
    "    [1,1,0,1,0],\n",
    "    [0,0,0,0,0],\n",
    "    [0,1,1,1,0],\n",
    "    [0,0,0,0,0]\n",
    "]\n",
    "\n",
    "start = (0,0)\n",
    "goal = (4,4)\n",
    "\n",
    "path = astar_search(maze, start, goal, manhattan)\n",
    "print(\"Path found:\", path)\n",
    "visualize(maze, path)"
   ]
  },
  {
   "cell_type": "markdown",
   "metadata": {},
   "source": [
    "## 3. Modified Heuristics\n",
    "\n",
    "### Case 1: 1.5 × Manhattan distance"
   ]
  },
  {
   "cell_type": "code",
   "execution_count": 7,
   "metadata": {},
   "outputs": [
    {
     "name": "stdout",
     "output_type": "stream",
     "text": [
      "Path with scaled heuristic: [(0, 0), (0, 1), (0, 2), (1, 2), (2, 2), (2, 3), (2, 4), (3, 4), (4, 4)]\n"
     ]
    },
    {
     "data": {
      "image/png": "[encoded data removed]",
      "text/plain": [
       "<Figure size 640x480 with 1 Axes>"
      ]
     },
     "metadata": {},
     "output_type": "display_data"
    }
   ],
   "source": [
    "def heuristic_scaled(node, goal):\n",
    "    return 1.5 * manhattan(node, goal)\n",
    "\n",
    "path_scaled = astar_search(maze, start, goal, heuristic_scaled)\n",
    "print(\"Path with scaled heuristic:\", path_scaled)\n",
    "visualize(maze, path_scaled)"
   ]
  },
  {
   "cell_type": "markdown",
   "metadata": {},
   "source": [
    "### Case 2: Inconsistent heuristic (violates triangle inequality at one node)"
   ]
  },
  {
   "cell_type": "code",
   "execution_count": 8,
   "metadata": {},
   "outputs": [
    {
     "name": "stdout",
     "output_type": "stream",
     "text": [
      "Path with inconsistent heuristic: [(0, 0), (0, 1), (0, 2), (1, 2), (2, 2), (2, 3), (2, 4), (3, 4), (4, 4)]\n"
     ]
    },
    {
     "data": {
      "image/png": "[encoded data removed]",
      "text/plain": [
       "<Figure size 640x480 with 1 Axes>"
      ]
     },
     "metadata": {},
     "output_type": "display_data"
    }
   ],
   "source": [
    "def heuristic_inconsistent(node, goal):\n",
    "    # normal Manhattan, except inflate one specific cell\n",
    "    if node == (2,2):\n",
    "        return 10\n",
    "    return manhattan(node, goal)\n",
    "\n",
    "path_inconsistent = astar_search(maze, start, goal, heuristic_inconsistent)\n",
    "print(\"Path with inconsistent heuristic:\", path_inconsistent)\n",
    "visualize(maze, path_inconsistent)"
   ]
  },
  {
   "cell_type": "markdown",
   "metadata": {},
   "source": [
    "## ✅ Summary\n",
    "1. Manhattan heuristic → admissible & consistent → optimal path found.\n",
    "2. 1.5× Manhattan → not admissible → A* may fail optimality.\n",
    "3. Inconsistent heuristic → admissible but not consistent → A* may re-expand nodes."
   ]
  }
 ],
 "metadata": {
  "kernelspec": {
   "display_name": "Python 3",
   "language": "python",
   "name": "python3"
  },
  "language_info": {
   "codemirror_mode": {
    "name": "ipython",
    "version": 3
   },
   "file_extension": ".py",
   "mimetype": "text/x-python",
   "name": "python",
   "nbconvert_exporter": "python",
   "pygments_lexer": "ipython3",
   "version": "3.13.1"
  }
 },
 "nbformat": 4,
 "nbformat_minor": 5
}
